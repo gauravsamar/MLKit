{
 "metadata": {
  "language_info": {
   "codemirror_mode": {
    "name": "ipython",
    "version": 3
   },
   "file_extension": ".py",
   "mimetype": "text/x-python",
   "name": "python",
   "nbconvert_exporter": "python",
   "pygments_lexer": "ipython3",
   "version": "3.9.2"
  },
  "orig_nbformat": 2,
  "kernelspec": {
   "name": "python3",
   "display_name": "Python 3.9.2 64-bit",
   "metadata": {
    "interpreter": {
     "hash": "d0f1a46e1b8bb49f6fe66dfa14ba01e1c4ea6e7377c07a6040c9a42d856a631d"
    }
   }
  }
 },
 "nbformat": 4,
 "nbformat_minor": 2,
 "cells": [
  {
   "cell_type": "code",
   "execution_count": null,
   "metadata": {},
   "outputs": [],
   "source": [
    "import pandas as pd\n",
    "from scipy import sparse\n",
    "from sklearn.metrics.pairwise import cosine_similarity\n",
    "ratings=pd.read_csv(\"toy_dataset.csv\",index_col=0)"
   ]
  },
  {
   "cell_type": "code",
   "execution_count": null,
   "metadata": {},
   "outputs": [],
   "source": [
    "ratings.fillna(0, inplace=True)\n",
    "ratings\n"
   ]
  },
  {
   "cell_type": "code",
   "execution_count": null,
   "metadata": {},
   "outputs": [],
   "source": [
    "def standardize(row):\n",
    "    new_row = (row - row.mean())/(row.max()-row.min())\n",
    "    return new_row\n",
    "\n",
    "df_std = ratings.apply(standardize).T\n",
    "print(df_std)\n",
    "\n",
    "sparse_df = sparse.csr_matrix(df_std.values)\n",
    "corrMatrix = pd.DataFrame(cosine_similarity(sparse_df),index=ratings.columns,columns=ratings.columns)\n",
    "corrMatrix"
   ]
  },
  {
   "cell_type": "code",
   "execution_count": null,
   "metadata": {},
   "outputs": [],
   "source": [
    "corrMatrix = ratings.corr(method='pearson')\n",
    "corrMatrix.head(6)"
   ]
  },
  {
   "cell_type": "code",
   "execution_count": null,
   "metadata": {},
   "outputs": [],
   "source": [
    "def get_similar(movie_name,rating):\n",
    "    similar_score = corrMatrix[movie_name]*(rating-2.5)\n",
    "    similar_score = similar_score.sort_values(ascending=False)\n",
    "    #print(type(similar_ratings))\n",
    "    return similar_score\n",
    "action_lover = [(\"action1\",5),(\"romantic2\",1),(\"romantic3\",1)]\n",
    "similar_scores = pd.DataFrame()\n",
    "for movie,rating in action_lover:\n",
    "    similar_scores = similar_scores.append(get_similar(movie,rating),ignore_index = True)\n",
    "\n",
    "similar_scores.head(10)\n"
   ]
  },
  {
   "cell_type": "code",
   "execution_count": null,
   "metadata": {},
   "outputs": [],
   "source": [
    "similar_scores.sum().sort_values(ascending=False)"
   ]
  }
 ]
}